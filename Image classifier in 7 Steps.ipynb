{
 "cells": [
  {
   "cell_type": "markdown",
   "metadata": {},
   "source": [
    "# Creating image classifier in 7 lines of code\n"
   ]
  },
  {
   "cell_type": "markdown",
   "metadata": {},
   "source": [
    "This is created using tutorials from http://www.pyimagesearch.com/2016/08/10/imagenet-classification-with-python-and-keras/  \n",
    "Here I create image classifier using different predefined trained CNNs. Thanks to François Chollet - https://github.com/fchollet \n",
    "\n",
    "I use pre trained model called \"ResNet50\". \n",
    "ResNet50: 102MB\n",
    "VGG16: 553MB\n",
    "VGG19: 574MB\n",
    "\n",
    "You can use other pre-trained CNNs. All these networks are trained on Imagenet dataset. \n",
    "\n",
    "1. vgg16 - smaller & faster model, 16-layer CNN\n",
    "2. vgg19 - larger, slower, slightly more accurate model, 19 layer CNN\n",
    "3. inception_v3\n",
    "4. resnet50 \n",
    "\n",
    "I run on my local machine(nvidia 650M - 384 cores )."
   ]
  },
  {
   "cell_type": "markdown",
   "metadata": {},
   "source": [
    "# Steps:\n",
    "1. Clone the deep learning models repository from #clone https://github.com/fchollet/deep-learning-models and get access to CNN and other libraries.\n",
    "2. Download the weight files for pretrained network (which will be automatically done if you are doing it for first time. It will be downloaded to C:\\Users\\User1\\.keras\\models (win 10 user here) )\n",
    "3. Apply the pretrained image network to the image\n"
   ]
  },
  {
   "cell_type": "markdown",
   "metadata": {},
   "source": [
    "# Step 1 - Load the necessary libraries"
   ]
  },
  {
   "cell_type": "code",
   "execution_count": 1,
   "metadata": {},
   "outputs": [
    {
     "name": "stderr",
     "output_type": "stream",
     "text": [
      "Using TensorFlow backend.\n"
     ]
    }
   ],
   "source": [
    "from keras.preprocessing import image as image_utils \n",
    "from imagenet_utils import decode_predictions,preprocess_input \n",
    "from resnet50 import ResNet50 \n",
    "#ResNet50 network is imported\n",
    "import numpy as np"
   ]
  },
  {
   "cell_type": "markdown",
   "metadata": {},
   "source": [
    "# Step 2 - Reading the Image \n",
    "The .load_img  Keras helper function to load our image from disk.\n",
    "I supply a target_size  of 224 x 224 pixels, the required spatial input image dimensions for the VGG16, VGG19, and ResNet50 network architectures.\n",
    "'img' will be in the pillow format."
   ]
  },
  {
   "cell_type": "code",
   "execution_count": 2,
   "metadata": {
    "collapsed": true
   },
   "outputs": [],
   "source": [
    "image_path = \"test.png\"\n",
    "img = image_utils.load_img(image_path, target_size=(224,224))\n"
   ]
  },
  {
   "cell_type": "markdown",
   "metadata": {},
   "source": [
    "# This is the image to be classified.\n",
    "![title](test.png)"
   ]
  },
  {
   "cell_type": "markdown",
   "metadata": {},
   "source": [
    "# Step 3 - Convert image to Array \n",
    "Passing image directly to network is not possible.\n",
    "I applu 'img_to_array()' to convert pillow format to numpy array format"
   ]
  },
  {
   "cell_type": "code",
   "execution_count": 3,
   "metadata": {
    "collapsed": true
   },
   "outputs": [],
   "source": [
    "img = image_utils.img_to_array(img)"
   ]
  },
  {
   "cell_type": "markdown",
   "metadata": {},
   "source": [
    "# Step 4 \n",
    "Image is now represented by a NumPy array of shape (3, 224, 224), \n",
    "but we need to expand the dimensions to be (1, 3, 224, 224) so we can \n",
    "pass it through the network. This is also because we are sending one image. "
   ]
  },
  {
   "cell_type": "code",
   "execution_count": 4,
   "metadata": {},
   "outputs": [
    {
     "name": "stdout",
     "output_type": "stream",
     "text": [
      "Image is loaded and preprocessed for classification\n"
     ]
    }
   ],
   "source": [
    "print(\"Image is loaded and preprocessed for classification\")\n",
    "img = np.expand_dims(img,axis=0)"
   ]
  },
  {
   "cell_type": "markdown",
   "metadata": {},
   "source": [
    "# Step 5 - Loading the network\n",
    "Download the weight files for pretrained network (which will be automatically done if you are doing it for first time. It will be downloaded to C:\\Users\\User1\\.keras\\models (win 10 user here) )"
   ]
  },
  {
   "cell_type": "code",
   "execution_count": 5,
   "metadata": {
    "collapsed": true
   },
   "outputs": [],
   "source": [
    "model = ResNet50(weights=\"imagenet\")"
   ]
  },
  {
   "cell_type": "markdown",
   "metadata": {},
   "source": [
    "# Step 6 - Preprocessing and classifying the Image \n",
    "Preprocess the image by subtracting the mean RGB pixel intensity from the ImageNet dataset"
   ]
  },
  {
   "cell_type": "code",
   "execution_count": 6,
   "metadata": {},
   "outputs": [
    {
     "name": "stdout",
     "output_type": "stream",
     "text": [
      "[Info] Classifying the image...\n"
     ]
    }
   ],
   "source": [
    "print('[Info] Classifying the image...')\n",
    "img = preprocess_input(img)"
   ]
  },
  {
   "cell_type": "markdown",
   "metadata": {},
   "source": [
    "# Step 7 - Showing the results\n",
    "# imagenet_class_index.json \n",
    "will be downloaded for the first time. This json file contains class names. "
   ]
  },
  {
   "cell_type": "code",
   "execution_count": 7,
   "metadata": {},
   "outputs": [
    {
     "name": "stdout",
     "output_type": "stream",
     "text": [
      "[Info]Image is predicted\n",
      "[[('n03642806', 'laptop', 0.65654731), ('n03832673', 'notebook', 0.33183628), ('n03777754', 'modem', 0.0020844156), ('n03691459', 'loudspeaker', 0.0010871213), ('n03584254', 'iPod', 0.00074684387)]]\n",
      "\n",
      "  [Info]It predicted laptop  with probability  0.656547\n"
     ]
    }
   ],
   "source": [
    "preds = model.predict(img) #Step 7\n",
    "print(\"[Info]Image is predicted\")\n",
    "print(decode_predictions(preds)) #Step 7. Here it gives details.\n",
    "Label_no,class_label,prob = decode_predictions(preds)[0][0]\n",
    "print('\\n',' [Info]It predicted',class_label,' with probability ',prob)"
   ]
  },
  {
   "cell_type": "markdown",
   "metadata": {},
   "source": [
    "Labels are indexed this way:  \n",
    "1.Unique ID of the Label 2.Class name 3.Probability  \n",
    "For Convenience Classes are shown in ascending probabilities"
   ]
  }
 ],
 "metadata": {
  "kernelspec": {
   "display_name": "Python 3",
   "language": "python",
   "name": "python3"
  },
  "language_info": {
   "codemirror_mode": {
    "name": "ipython",
    "version": 3
   },
   "file_extension": ".py",
   "mimetype": "text/x-python",
   "name": "python",
   "nbconvert_exporter": "python",
   "pygments_lexer": "ipython3",
   "version": "3.5.3"
  }
 },
 "nbformat": 4,
 "nbformat_minor": 2
}

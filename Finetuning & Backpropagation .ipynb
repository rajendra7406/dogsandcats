{
 "cells": [
  {
   "cell_type": "markdown",
   "metadata": {},
   "source": [
    "# Finetuning vgg16 to predict catsanddogs\n",
    "\n",
    "**Finetuning** is creating secondary network using existing network.\n",
    "\n",
    "For Ex: vgg16 network is used to classify 1000 classes of imagenet dataset.\n",
    "* By Finetuning this network, I can create dogsandcats classifier. \n",
    "* All you have to do is:\n",
    "  1. pop the last layer which classifies 1000 classes. \n",
    "  2. make the layers *non trainable*\n",
    "  3. add a layer at last which classifies 2 outputs \n",
    "  4. then compile, and fit the model. \n",
    "  \n",
    "Your catsanddogs classifier is ready**!!!**"
   ]
  },
  {
   "cell_type": "code",
   "execution_count": 1,
   "metadata": {},
   "outputs": [
    {
     "name": "stderr",
     "output_type": "stream",
     "text": [
      "Using TensorFlow backend.\n"
     ]
    }
   ],
   "source": [
    "import vgg16\n",
    "from vgg16 import VGG16"
   ]
  },
  {
   "cell_type": "code",
   "execution_count": 2,
   "metadata": {
    "scrolled": true
   },
   "outputs": [
    {
     "name": "stdout",
     "output_type": "stream",
     "text": [
      "_________________________________________________________________\n",
      "Layer (type)                 Output Shape              Param #   \n",
      "=================================================================\n",
      "input_1 (InputLayer)         (None, 224, 224, 3)       0         \n",
      "_________________________________________________________________\n",
      "block1_conv1 (Conv2D)        (None, 224, 224, 64)      1792      \n",
      "_________________________________________________________________\n",
      "block1_conv2 (Conv2D)        (None, 224, 224, 64)      36928     \n",
      "_________________________________________________________________\n",
      "block1_pool (MaxPooling2D)   (None, 112, 112, 64)      0         \n",
      "_________________________________________________________________\n",
      "block2_conv1 (Conv2D)        (None, 112, 112, 128)     73856     \n",
      "_________________________________________________________________\n",
      "block2_conv2 (Conv2D)        (None, 112, 112, 128)     147584    \n",
      "_________________________________________________________________\n",
      "block2_pool (MaxPooling2D)   (None, 56, 56, 128)       0         \n",
      "_________________________________________________________________\n",
      "block3_conv1 (Conv2D)        (None, 56, 56, 256)       295168    \n",
      "_________________________________________________________________\n",
      "block3_conv2 (Conv2D)        (None, 56, 56, 256)       590080    \n",
      "_________________________________________________________________\n",
      "block3_conv3 (Conv2D)        (None, 56, 56, 256)       590080    \n",
      "_________________________________________________________________\n",
      "block3_pool (MaxPooling2D)   (None, 28, 28, 256)       0         \n",
      "_________________________________________________________________\n",
      "block4_conv1 (Conv2D)        (None, 28, 28, 512)       1180160   \n",
      "_________________________________________________________________\n",
      "block4_conv2 (Conv2D)        (None, 28, 28, 512)       2359808   \n",
      "_________________________________________________________________\n",
      "block4_conv3 (Conv2D)        (None, 28, 28, 512)       2359808   \n",
      "_________________________________________________________________\n",
      "block4_pool (MaxPooling2D)   (None, 14, 14, 512)       0         \n",
      "_________________________________________________________________\n",
      "block5_conv1 (Conv2D)        (None, 14, 14, 512)       2359808   \n",
      "_________________________________________________________________\n",
      "block5_conv2 (Conv2D)        (None, 14, 14, 512)       2359808   \n",
      "_________________________________________________________________\n",
      "block5_conv3 (Conv2D)        (None, 14, 14, 512)       2359808   \n",
      "_________________________________________________________________\n",
      "block5_pool (MaxPooling2D)   (None, 7, 7, 512)         0         \n",
      "_________________________________________________________________\n",
      "flatten (Flatten)            (None, 25088)             0         \n",
      "_________________________________________________________________\n",
      "fc1 (Dense)                  (None, 4096)              102764544 \n",
      "_________________________________________________________________\n",
      "fc2 (Dense)                  (None, 4096)              16781312  \n",
      "_________________________________________________________________\n",
      "predictions (Dense)          (None, 1000)              4097000   \n",
      "=================================================================\n",
      "Total params: 138,357,544\n",
      "Trainable params: 138,357,544\n",
      "Non-trainable params: 0\n",
      "_________________________________________________________________\n"
     ]
    }
   ],
   "source": [
    "vgg=VGG16()\n",
    "vgg.summary()"
   ]
  },
  {
   "cell_type": "code",
   "execution_count": 3,
   "metadata": {},
   "outputs": [
    {
     "data": {
      "text/plain": [
       "<keras.layers.core.Dense at 0x23869a41f28>"
      ]
     },
     "execution_count": 3,
     "metadata": {},
     "output_type": "execute_result"
    }
   ],
   "source": [
    "vgg.layers.pop()"
   ]
  },
  {
   "cell_type": "code",
   "execution_count": 4,
   "metadata": {},
   "outputs": [
    {
     "name": "stdout",
     "output_type": "stream",
     "text": [
      "_________________________________________________________________\n",
      "Layer (type)                 Output Shape              Param #   \n",
      "=================================================================\n",
      "input_1 (InputLayer)         (None, 224, 224, 3)       0         \n",
      "_________________________________________________________________\n",
      "block1_conv1 (Conv2D)        (None, 224, 224, 64)      1792      \n",
      "_________________________________________________________________\n",
      "block1_conv2 (Conv2D)        (None, 224, 224, 64)      36928     \n",
      "_________________________________________________________________\n",
      "block1_pool (MaxPooling2D)   (None, 112, 112, 64)      0         \n",
      "_________________________________________________________________\n",
      "block2_conv1 (Conv2D)        (None, 112, 112, 128)     73856     \n",
      "_________________________________________________________________\n",
      "block2_conv2 (Conv2D)        (None, 112, 112, 128)     147584    \n",
      "_________________________________________________________________\n",
      "block2_pool (MaxPooling2D)   (None, 56, 56, 128)       0         \n",
      "_________________________________________________________________\n",
      "block3_conv1 (Conv2D)        (None, 56, 56, 256)       295168    \n",
      "_________________________________________________________________\n",
      "block3_conv2 (Conv2D)        (None, 56, 56, 256)       590080    \n",
      "_________________________________________________________________\n",
      "block3_conv3 (Conv2D)        (None, 56, 56, 256)       590080    \n",
      "_________________________________________________________________\n",
      "block3_pool (MaxPooling2D)   (None, 28, 28, 256)       0         \n",
      "_________________________________________________________________\n",
      "block4_conv1 (Conv2D)        (None, 28, 28, 512)       1180160   \n",
      "_________________________________________________________________\n",
      "block4_conv2 (Conv2D)        (None, 28, 28, 512)       2359808   \n",
      "_________________________________________________________________\n",
      "block4_conv3 (Conv2D)        (None, 28, 28, 512)       2359808   \n",
      "_________________________________________________________________\n",
      "block4_pool (MaxPooling2D)   (None, 14, 14, 512)       0         \n",
      "_________________________________________________________________\n",
      "block5_conv1 (Conv2D)        (None, 14, 14, 512)       2359808   \n",
      "_________________________________________________________________\n",
      "block5_conv2 (Conv2D)        (None, 14, 14, 512)       2359808   \n",
      "_________________________________________________________________\n",
      "block5_conv3 (Conv2D)        (None, 14, 14, 512)       2359808   \n",
      "_________________________________________________________________\n",
      "block5_pool (MaxPooling2D)   (None, 7, 7, 512)         0         \n",
      "_________________________________________________________________\n",
      "flatten (Flatten)            (None, 25088)             0         \n",
      "_________________________________________________________________\n",
      "fc1 (Dense)                  (None, 4096)              102764544 \n",
      "_________________________________________________________________\n",
      "fc2 (Dense)                  (None, 4096)              16781312  \n",
      "=================================================================\n",
      "Total params: 134,260,544\n",
      "Trainable params: 134,260,544\n",
      "Non-trainable params: 0\n",
      "_________________________________________________________________\n"
     ]
    }
   ],
   "source": [
    "vgg.summary()\n"
   ]
  },
  {
   "cell_type": "markdown",
   "metadata": {},
   "source": [
    "## The last layer is removed"
   ]
  },
  {
   "cell_type": "code",
   "execution_count": null,
   "metadata": {
    "collapsed": true
   },
   "outputs": [],
   "source": [
    "for layer in vgg.layers: layer.trainable=False"
   ]
  },
  {
   "cell_type": "markdown",
   "metadata": {},
   "source": [
    "### Careful:\n",
    "    Dont train the layers now. \n",
    "    Complete the model and then train. "
   ]
  },
  {
   "cell_type": "markdown",
   "metadata": {},
   "source": [
    "### Add layer"
   ]
  },
  {
   "cell_type": "code",
   "execution_count": null,
   "metadata": {},
   "outputs": [],
   "source": [
    "from keras.layers import Dense\n",
    "\n",
    "vgg.add(Dense(output_dim=2, activation='softmax'))"
   ]
  },
  {
   "cell_type": "markdown",
   "metadata": {},
   "source": [
    "    Some error here"
   ]
  },
  {
   "cell_type": "markdown",
   "metadata": {},
   "source": [
    "#### Now\n",
    "1. compile\n",
    "2. create batches\n",
    "3. fit "
   ]
  },
  {
   "cell_type": "code",
   "execution_count": null,
   "metadata": {
    "collapsed": true
   },
   "outputs": [],
   "source": [
    "# Compile\n",
    "vgg.compile(optimizer='adam', loss='binary_crossentropy', metrics=['accuracy'])"
   ]
  },
  {
   "cell_type": "code",
   "execution_count": 21,
   "metadata": {},
   "outputs": [
    {
     "name": "stdout",
     "output_type": "stream",
     "text": [
      "Found 20 images belonging to 2 classes.\n",
      "Found 6 images belonging to 2 classes.\n"
     ]
    }
   ],
   "source": [
    "# Generating batches\n",
    "from keras.preprocessing.image import ImageDataGenerator\n",
    "\n",
    "gen = ImageDataGenerator()\n",
    "\n",
    "train_batches = gen.flow_from_directory(\n",
    "                'training_set',\n",
    "                batch_size=3,\n",
    "                class_mode='binary',\n",
    "                 target_size=(224,224) )\n",
    "    \n",
    "test_batches = gen.flow_from_directory(\n",
    "                 'test_set',\n",
    "                batch_size=2,\n",
    "                class_mode='binary',\n",
    "                target_size=(224,224))"
   ]
  },
  {
   "cell_type": "code",
   "execution_count": 22,
   "metadata": {},
   "outputs": [
    {
     "data": {
      "text/plain": [
       "20"
      ]
     },
     "execution_count": 22,
     "metadata": {},
     "output_type": "execute_result"
    }
   ],
   "source": [
    "train_batches.n"
   ]
  },
  {
   "cell_type": "code",
   "execution_count": null,
   "metadata": {
    "collapsed": true
   },
   "outputs": [],
   "source": [
    "# Fit\n",
    "vgg.fit_generator(\n",
    "        training_set,\n",
    "        steps_per_epoch=6,\n",
    "        epochs=25,\n",
    "        validation_data=test_set,\n",
    "        validation_steps=2)"
   ]
  },
  {
   "cell_type": "markdown",
   "metadata": {},
   "source": [
    "# Back propagation;\n",
    "\n",
    "    Back propagation helps us to train multiple layers rather than just one.\n",
    "    \n",
    "    Training a layer is nothing but calculating optimal weights, which is nothing but taking derivative. \n",
    "Back propagation uses **chain rule**. \n",
    "(  Chain rule is d( f(g(x) ) equals product**(** f'(g(x)) ) , g'(x) **)**  )\n",
    "\n",
    "## Note: \n",
    "Perform Back Propogation on model which is already compiled and fit. \n",
    "\n",
    "    backpropogation works on any model with dense layers.\n",
    "\n",
    "#### Back Propogation:\n",
    "is a simple task in python. \n",
    "\n",
    "Ex:\n",
    "* There are 4 convolution layers, followed by maxpooling layer, flattening layer and followed by 4 dense layers in a model.\n",
    "* Get the index of 2nd dense layer.\n",
    "* make all the layers trainable until 2nd dense layer.\n",
    "* compile and Fit the model\n",
    "* Save the weights\n",
    "\n"
   ]
  },
  {
   "cell_type": "code",
   "execution_count": 19,
   "metadata": {},
   "outputs": [
    {
     "name": "stdout",
     "output_type": "stream",
     "text": [
      "0 <keras.engine.topology.InputLayer object at 0x00000238697C1A58>\n",
      "1 <keras.layers.convolutional.Conv2D object at 0x00000238697C1DA0>\n",
      "2 <keras.layers.convolutional.Conv2D object at 0x00000238697F59B0>\n",
      "3 <keras.layers.pooling.MaxPooling2D object at 0x00000238697C1CC0>\n",
      "4 <keras.layers.convolutional.Conv2D object at 0x0000023869801588>\n",
      "5 <keras.layers.convolutional.Conv2D object at 0x0000023869822AC8>\n",
      "6 <keras.layers.pooling.MaxPooling2D object at 0x0000023869856CC0>\n",
      "7 <keras.layers.convolutional.Conv2D object at 0x0000023869837908>\n",
      "8 <keras.layers.convolutional.Conv2D object at 0x00000238698757B8>\n",
      "9 <keras.layers.convolutional.Conv2D object at 0x00000238698A35F8>\n",
      "10 <keras.layers.pooling.MaxPooling2D object at 0x000002386989D908>\n",
      "11 <keras.layers.convolutional.Conv2D object at 0x00000238698EE978>\n",
      "12 <keras.layers.convolutional.Conv2D object at 0x0000023869910BA8>\n",
      "13 <keras.layers.convolutional.Conv2D object at 0x0000023869939748>\n",
      "14 <keras.layers.pooling.MaxPooling2D object at 0x0000023869924630>\n",
      "15 <keras.layers.convolutional.Conv2D object at 0x0000023869981208>\n",
      "16 <keras.layers.convolutional.Conv2D object at 0x000002386998D978>\n",
      "17 <keras.layers.convolutional.Conv2D object at 0x00000238699A3AC8>\n",
      "18 <keras.layers.pooling.MaxPooling2D object at 0x00000238699B6B00>\n",
      "19 <keras.layers.core.Flatten object at 0x0000023869A016A0>\n",
      "20 <keras.layers.core.Dense object at 0x0000023869A016D8>\n",
      "21 <keras.layers.core.Dense object at 0x0000023869A2CBE0>\n",
      "df <keras.layers.core.Dense object at 0x0000023869A016D8>\n"
     ]
    }
   ],
   "source": [
    "layers = vgg.layers\n",
    "for idx,layer in enumerate(layers): print(idx,layer)"
   ]
  },
  {
   "cell_type": "code",
   "execution_count": null,
   "metadata": {
    "collapsed": true
   },
   "outputs": [],
   "source": [
    "#Index of 1 st Dense layer is 20\n",
    "idx_dense = 20\n",
    "for idx in range(20): layers[idx].trainable = True"
   ]
  },
  {
   "cell_type": "code",
   "execution_count": null,
   "metadata": {
    "collapsed": true
   },
   "outputs": [],
   "source": [
    "#compile the model\n",
    "opt = RMSprop(lr=0.1)\n",
    "vgg.compile(optimizer=opt, loss='categorical_crossentropy', metrics=['accuracy'])"
   ]
  },
  {
   "cell_type": "code",
   "execution_count": null,
   "metadata": {
    "collapsed": true
   },
   "outputs": [],
   "source": [
    "#Fit the model\n",
    "vgg.fit_generator(\n",
    "        training_set,\n",
    "        steps_per_epoch=traininig_set.n,\n",
    "        epochs=25,\n",
    "        validation_data=test_set,\n",
    "        validation_steps=test_set.n)"
   ]
  },
  {
   "cell_type": "code",
   "execution_count": null,
   "metadata": {
    "collapsed": true
   },
   "outputs": [],
   "source": [
    "#Save the weigths\n",
    "cgg.save_weights('backprop.h5')\n"
   ]
  },
  {
   "cell_type": "code",
   "execution_count": null,
   "metadata": {
    "collapsed": true
   },
   "outputs": [],
   "source": [
    "#Load the weigths\n",
    "vgg.load_weights('backprop.h5')"
   ]
  },
  {
   "cell_type": "markdown",
   "metadata": {},
   "source": [
    "## Note:\n",
    "* You can load the weights whenever you want to the model.\n",
    "* Then you can evaluate the model.\n",
    "```python\n",
    "model.evaluate_generator()\n",
    "```"
   ]
  }
 ],
 "metadata": {
  "kernelspec": {
   "display_name": "Python 3",
   "language": "python",
   "name": "python3"
  },
  "language_info": {
   "codemirror_mode": {
    "name": "ipython",
    "version": 3
   },
   "file_extension": ".py",
   "mimetype": "text/x-python",
   "name": "python",
   "nbconvert_exporter": "python",
   "pygments_lexer": "ipython3",
   "version": "3.5.3"
  }
 },
 "nbformat": 4,
 "nbformat_minor": 2
}
